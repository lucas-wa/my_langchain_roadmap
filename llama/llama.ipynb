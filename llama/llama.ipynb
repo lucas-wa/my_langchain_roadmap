{
  "cells": [
    {
      "cell_type": "code",
      "execution_count": null,
      "metadata": {
        "id": "xIBuB7E-8wnL"
      },
      "outputs": [],
      "source": [
        "!pip install langchain"
      ]
    },
    {
      "cell_type": "code",
      "execution_count": null,
      "metadata": {
        "id": "OKjXSRN-9hsS"
      },
      "outputs": [],
      "source": [
        "!pip install llama-cpp-python"
      ]
    },
    {
      "cell_type": "code",
      "execution_count": null,
      "metadata": {
        "id": "rrFG8e0M-GpR"
      },
      "outputs": [],
      "source": [
        "!git clone https://github.com/ggerganov/llama.cpp\n",
        "!cd llama.cpp && make"
      ]
    },
    {
      "cell_type": "code",
      "execution_count": null,
      "metadata": {
        "id": "VFs3rlVk_GT-"
      },
      "outputs": [],
      "source": [
        "!cd llama.cpp && python3 -m pip install -r requirements.txt"
      ]
    },
    {
      "cell_type": "code",
      "execution_count": null,
      "metadata": {
        "id": "svVMmGgj_yvQ"
      },
      "outputs": [],
      "source": [
        "!cd llama.cpp && python3 convert.py models/7B/"
      ]
    },
    {
      "cell_type": "code",
      "execution_count": null,
      "metadata": {
        "id": "yua8Hge7o1XT"
      },
      "outputs": [],
      "source": [
        "!git clone https://github.com/facebookresearch/llama.git"
      ]
    },
    {
      "cell_type": "code",
      "execution_count": null,
      "metadata": {
        "id": "o-vMTVekpAci"
      },
      "outputs": [],
      "source": [
        "!cd llama && pip install -e ."
      ]
    },
    {
      "cell_type": "code",
      "execution_count": null,
      "metadata": {
        "id": "R8w76YCdpPJY"
      },
      "outputs": [],
      "source": [
        "# Esse passo requisita que seja colado um link para download dos pesos do Llama disponibilizado pela Meta após preencher esse formulário https://ai.meta.com/resources/models-and-libraries/llama-downloads/\n",
        "!cd llama && ./download.sh"
      ]
    },
    {
      "cell_type": "code",
      "execution_count": 8,
      "metadata": {
        "id": "_yZu4npAtIm_"
      },
      "outputs": [],
      "source": [
        "!mv llama/llama-2-7b/ llama.cpp/models/\n",
        "!mv llama.cpp/models/llama-2-7b/ llama.cpp/models/7B\n",
        "!mv llama/tokenizer.model llama.cpp/models/\n",
        "!mv llama/tokenizer_checklist.chk llama.cpp/models/"
      ]
    },
    {
      "cell_type": "code",
      "execution_count": null,
      "metadata": {
        "id": "Z-qdB77v_CgS"
      },
      "outputs": [],
      "source": [
        "!pip install fastapi kaleido python-multipart uvicorn"
      ]
    },
    {
      "cell_type": "code",
      "execution_count": null,
      "metadata": {
        "id": "Co5rSQpZtvEk"
      },
      "outputs": [],
      "source": [
        "!cd llama.cpp && python3 -m pip install -r requirements.txt"
      ]
    },
    {
      "cell_type": "code",
      "execution_count": 23,
      "metadata": {
        "id": "x7Uj6r0ADEgi"
      },
      "outputs": [],
      "source": [
        "f = open(\"llama.cpp/models/7B/params.json\", \"w\")\n",
        "content = \"\"\"{\"dim\": 4096, \"multiple_of\": 256, \"n_heads\": 32, \"n_layers\": 32, \"norm_eps\": 1e-05, \"vocab_size\": 32000}\"\"\"\n",
        "f.write(content)\n",
        "f.close()"
      ]
    },
    {
      "cell_type": "code",
      "execution_count": null,
      "metadata": {
        "id": "W6rl7TWluE5v"
      },
      "outputs": [],
      "source": [
        "!cd llama.cpp && python3 convert.py models/7B/"
      ]
    },
    {
      "cell_type": "code",
      "execution_count": null,
      "metadata": {
        "id": "w7Ti-XUluNxp"
      },
      "outputs": [],
      "source": [
        "!cd llama.cpp && ./quantize ./models/7B/ggml-model-f16.gguf ./models/7B/ggml-model-q4_0.gguf q4_0"
      ]
    },
    {
      "cell_type": "code",
      "execution_count": null,
      "metadata": {
        "id": "26OUm6z1A7_v"
      },
      "outputs": [],
      "source": [
        "!cd llama.cpp && ./quantize ./models/7B/ggml-model-q4_0.gguf ./models/7B/ggml-model-q4_0-v2.gguf COPY"
      ]
    },
    {
      "cell_type": "code",
      "execution_count": 24,
      "metadata": {
        "id": "wC5T5KJB3enc"
      },
      "outputs": [],
      "source": [
        "from langchain.callbacks.manager import CallbackManager\n",
        "from langchain.callbacks.streaming_stdout import StreamingStdOutCallbackHandler\n",
        "from langchain.chains import LLMChain\n",
        "from langchain.llms import LlamaCpp\n",
        "from langchain.prompts import PromptTemplate"
      ]
    },
    {
      "cell_type": "code",
      "execution_count": 25,
      "metadata": {
        "id": "xJcOIhLbD7AP"
      },
      "outputs": [],
      "source": [
        "template = \"\"\"Question: {question}\n",
        "\n",
        "Answer: Let's work this out in a step by step way to be sure we have the right answer.\"\"\"\n",
        "\n",
        "prompt = PromptTemplate(template=template, input_variables=[\"question\"])"
      ]
    },
    {
      "cell_type": "code",
      "execution_count": 26,
      "metadata": {
        "id": "cwW-SU2UD_WU"
      },
      "outputs": [],
      "source": [
        "callback_manager = CallbackManager([StreamingStdOutCallbackHandler()])"
      ]
    },
    {
      "cell_type": "code",
      "execution_count": null,
      "metadata": {
        "colab": {
          "base_uri": "https://localhost:8080/"
        },
        "id": "be06qNn7EDa_",
        "outputId": "0d6db117-9295-4c83-dd5a-aa3b9968513e"
      },
      "outputs": [],
      "source": [
        "llm = LlamaCpp(\n",
        "    model_path=\"llama.cpp/models/7B/ggml-model-q4_0-v2.gguf\",\n",
        "    temperature=0.75,\n",
        "    max_tokens=2000,\n",
        "    top_p=1,\n",
        "    callback_manager=callback_manager,\n",
        "    verbose=True,\n",
        "    n_gpu_layers=40,\n",
        "    n_batch=512\n",
        "  )"
      ]
    },
    {
      "cell_type": "code",
      "execution_count": null,
      "metadata": {
        "id": "ygCW2LwnE0d1"
      },
      "outputs": [],
      "source": [
        "prompt = \"\"\"\n",
        "Question: A rap battle between Stephen Colbert and John Oliver\n",
        "\"\"\"\n",
        "llm(prompt)"
      ]
    }
  ],
  "metadata": {
    "accelerator": "GPU",
    "colab": {
      "gpuType": "T4",
      "provenance": []
    },
    "kernelspec": {
      "display_name": "Python 3",
      "name": "python3"
    },
    "language_info": {
      "name": "python"
    }
  },
  "nbformat": 4,
  "nbformat_minor": 0
}
